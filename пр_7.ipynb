{
 "cells": [
  {
   "cell_type": "code",
   "execution_count": 1,
   "id": "a35a487d",
   "metadata": {},
   "outputs": [
    {
     "name": "stdout",
     "output_type": "stream",
     "text": [
      "Collecting ipython-sql\n",
      "  Obtaining dependency information for ipython-sql from https://files.pythonhosted.org/packages/30/8f/9e50fa53ffc371483f9d1b90c1175b706d28a2e978e90a8894035af01905/ipython_sql-0.5.0-py3-none-any.whl.metadata\n",
      "  Downloading ipython_sql-0.5.0-py3-none-any.whl.metadata (17 kB)\n",
      "Collecting prettytable (from ipython-sql)\n",
      "  Obtaining dependency information for prettytable from https://files.pythonhosted.org/packages/02/c7/5613524e606ea1688b3bdbf48aa64bafb6d0a4ac3750274c43b6158a390f/prettytable-3.16.0-py3-none-any.whl.metadata\n",
      "  Downloading prettytable-3.16.0-py3-none-any.whl.metadata (33 kB)\n",
      "Requirement already satisfied: ipython in c:\\users\\pirol\\appdata\\roaming\\python\\python311\\site-packages (from ipython-sql) (9.2.0)\n",
      "Collecting sqlalchemy>=2.0 (from ipython-sql)\n",
      "  Obtaining dependency information for sqlalchemy>=2.0 from https://files.pythonhosted.org/packages/9d/8e/8344f8ae1cb6a479d0741c02cd4f666925b2bf02e2468ddaf5ce44111f30/sqlalchemy-2.0.41-cp311-cp311-win_amd64.whl.metadata\n",
      "  Downloading sqlalchemy-2.0.41-cp311-cp311-win_amd64.whl.metadata (9.8 kB)\n",
      "Collecting sqlparse (from ipython-sql)\n",
      "  Obtaining dependency information for sqlparse from https://files.pythonhosted.org/packages/a9/5c/bfd6bd0bf979426d405cc6e71eceb8701b148b16c21d2dc3c261efc61c7b/sqlparse-0.5.3-py3-none-any.whl.metadata\n",
      "  Downloading sqlparse-0.5.3-py3-none-any.whl.metadata (3.9 kB)\n",
      "Requirement already satisfied: six in c:\\users\\pirol\\appdata\\roaming\\python\\python311\\site-packages (from ipython-sql) (1.17.0)\n",
      "Collecting ipython-genutils (from ipython-sql)\n",
      "  Obtaining dependency information for ipython-genutils from https://files.pythonhosted.org/packages/fa/bc/9bd3b5c2b4774d5f33b2d544f1460be9df7df2fe42f352135381c347c69a/ipython_genutils-0.2.0-py2.py3-none-any.whl.metadata\n",
      "  Downloading ipython_genutils-0.2.0-py2.py3-none-any.whl.metadata (755 bytes)\n",
      "Collecting greenlet>=1 (from sqlalchemy>=2.0->ipython-sql)\n",
      "  Obtaining dependency information for greenlet>=1 from https://files.pythonhosted.org/packages/c5/eb/7551c751a2ea6498907b2fcbe31d7a54b602ba5e8eb9550a9695ca25d25c/greenlet-3.2.2-cp311-cp311-win_amd64.whl.metadata\n",
      "  Downloading greenlet-3.2.2-cp311-cp311-win_amd64.whl.metadata (4.2 kB)\n",
      "Requirement already satisfied: typing-extensions>=4.6.0 in c:\\users\\pirol\\appdata\\roaming\\python\\python311\\site-packages (from sqlalchemy>=2.0->ipython-sql) (4.13.2)\n",
      "Requirement already satisfied: colorama in c:\\users\\pirol\\appdata\\roaming\\python\\python311\\site-packages (from ipython->ipython-sql) (0.4.6)\n",
      "Requirement already satisfied: decorator in c:\\users\\pirol\\appdata\\roaming\\python\\python311\\site-packages (from ipython->ipython-sql) (5.2.1)\n",
      "Requirement already satisfied: ipython-pygments-lexers in c:\\users\\pirol\\appdata\\roaming\\python\\python311\\site-packages (from ipython->ipython-sql) (1.1.1)\n",
      "Requirement already satisfied: jedi>=0.16 in c:\\users\\pirol\\appdata\\roaming\\python\\python311\\site-packages (from ipython->ipython-sql) (0.19.2)\n",
      "Requirement already satisfied: matplotlib-inline in c:\\users\\pirol\\appdata\\roaming\\python\\python311\\site-packages (from ipython->ipython-sql) (0.1.7)\n",
      "Requirement already satisfied: prompt_toolkit<3.1.0,>=3.0.41 in c:\\users\\pirol\\appdata\\roaming\\python\\python311\\site-packages (from ipython->ipython-sql) (3.0.51)\n",
      "Requirement already satisfied: pygments>=2.4.0 in c:\\users\\pirol\\appdata\\roaming\\python\\python311\\site-packages (from ipython->ipython-sql) (2.19.1)\n",
      "Requirement already satisfied: stack_data in c:\\users\\pirol\\appdata\\roaming\\python\\python311\\site-packages (from ipython->ipython-sql) (0.6.3)\n",
      "Requirement already satisfied: traitlets>=5.13.0 in c:\\users\\pirol\\appdata\\roaming\\python\\python311\\site-packages (from ipython->ipython-sql) (5.14.3)\n",
      "Requirement already satisfied: wcwidth in c:\\users\\pirol\\appdata\\roaming\\python\\python311\\site-packages (from prettytable->ipython-sql) (0.2.13)\n",
      "Requirement already satisfied: parso<0.9.0,>=0.8.4 in c:\\users\\pirol\\appdata\\roaming\\python\\python311\\site-packages (from jedi>=0.16->ipython->ipython-sql) (0.8.4)\n",
      "Requirement already satisfied: executing>=1.2.0 in c:\\users\\pirol\\appdata\\roaming\\python\\python311\\site-packages (from stack_data->ipython->ipython-sql) (2.2.0)\n",
      "Requirement already satisfied: asttokens>=2.1.0 in c:\\users\\pirol\\appdata\\roaming\\python\\python311\\site-packages (from stack_data->ipython->ipython-sql) (3.0.0)\n",
      "Requirement already satisfied: pure-eval in c:\\users\\pirol\\appdata\\roaming\\python\\python311\\site-packages (from stack_data->ipython->ipython-sql) (0.2.3)\n",
      "Downloading ipython_sql-0.5.0-py3-none-any.whl (20 kB)\n",
      "Downloading sqlalchemy-2.0.41-cp311-cp311-win_amd64.whl (2.1 MB)\n",
      "   ---------------------------------------- 0.0/2.1 MB ? eta -:--:--\n",
      "   -- ------------------------------------- 0.1/2.1 MB 7.7 MB/s eta 0:00:01\n",
      "   ------ --------------------------------- 0.4/2.1 MB 5.7 MB/s eta 0:00:01\n",
      "   --------------- ------------------------ 0.8/2.1 MB 6.5 MB/s eta 0:00:01\n",
      "   ----------------------------- ---------- 1.6/2.1 MB 9.0 MB/s eta 0:00:01\n",
      "   -------------------------------------- - 2.0/2.1 MB 9.2 MB/s eta 0:00:01\n",
      "   ---------------------------------------- 2.1/2.1 MB 8.4 MB/s eta 0:00:00\n",
      "Downloading ipython_genutils-0.2.0-py2.py3-none-any.whl (26 kB)\n",
      "Downloading prettytable-3.16.0-py3-none-any.whl (33 kB)\n",
      "Downloading sqlparse-0.5.3-py3-none-any.whl (44 kB)\n",
      "   ---------------------------------------- 0.0/44.4 kB ? eta -:--:--\n",
      "   ---------------------------------------- 44.4/44.4 kB 2.1 MB/s eta 0:00:00\n",
      "Downloading greenlet-3.2.2-cp311-cp311-win_amd64.whl (295 kB)\n",
      "   ---------------------------------------- 0.0/295.4 kB ? eta -:--:--\n",
      "   ---------------------------------------- 295.4/295.4 kB 9.2 MB/s eta 0:00:00\n",
      "Installing collected packages: ipython-genutils, sqlparse, prettytable, greenlet, sqlalchemy, ipython-sql\n",
      "Successfully installed greenlet-3.2.2 ipython-genutils-0.2.0 ipython-sql-0.5.0 prettytable-3.16.0 sqlalchemy-2.0.41 sqlparse-0.5.3\n"
     ]
    },
    {
     "name": "stderr",
     "output_type": "stream",
     "text": [
      "\n",
      "[notice] A new release of pip is available: 23.2.1 -> 25.1.1\n",
      "[notice] To update, run: python.exe -m pip install --upgrade pip\n"
     ]
    }
   ],
   "source": [
    "\n",
    "!pip install ipython-sql"
   ]
  },
  {
   "cell_type": "code",
   "execution_count": null,
   "id": "bbe4aa11",
   "metadata": {},
   "outputs": [
    {
     "name": "stdout",
     "output_type": "stream",
     "text": [
      "База данных medical__db успешно создана\n"
     ]
    }
   ],
   "source": [
    "import psycopg2\n",
    "from psycopg2 import sql\n",
    "from psycopg2.extensions import ISOLATION_LEVEL_AUTOCOMMIT\n",
    "\n",
    "server_params = {\n",
    "    \"host\": \"localhost\",\n",
    "    \"user\": \"postgres\",\n",
    "    \"password\": \"1234\", \n",
    "    \"port\": \"5432\" \n",
    "}\n",
    "\n",
    "try:\n",
    "  \n",
    "    conn = psycopg2.connect(**server_params)\n",
    "    conn.set_isolation_level(ISOLATION_LEVEL_AUTOCOMMIT)  \n",
    "    \n",
    "    with conn.cursor() as cur:\n",
    "        \n",
    "        cur.execute(\"SELECT 1 FROM pg_database WHERE datname='medical__db'\")\n",
    "        exists = cur.fetchone()\n",
    "        \n",
    "        if not exists:\n",
    "          \n",
    "            cur.execute(sql.SQL(\"CREATE DATABASE medical__db\"))\n",
    "            print(\"База данных medical__db успешно создана\")\n",
    "        else:\n",
    "            print(\"База данных medical__db уже существует\")\n",
    "            \n",
    "except psycopg2.Error as e:\n",
    "    print(f\"Ошибка при создании базы данных: {e}\")\n",
    "finally:\n",
    "    if conn:\n",
    "        conn.close()"
   ]
  },
  {
   "cell_type": "code",
   "execution_count": null,
   "id": "c4c03f9e",
   "metadata": {},
   "outputs": [
    {
     "name": "stdout",
     "output_type": "stream",
     "text": [
      " * sqlite:///hospital.db\n",
      "Done.\n"
     ]
    },
    {
     "data": {
      "text/plain": [
       "[]"
      ]
     },
     "execution_count": 11,
     "metadata": {},
     "output_type": "execute_result"
    }
   ],
   "source": [
    "%%sql\n",
    "\n",
    "-- Создание таблицы докторов\n",
    "CREATE TABLE IF NOT EXISTS DOCTOR (\n",
    "    DOCTOR_ID SERIAL PRIMARY KEY,\n",
    "    LAST_NAME VARCHAR(50) NOT NULL,\n",
    "    POSITION VARCHAR(50) NOT NULL,\n",
    "    EXPERIENCE_YEARS INTEGER NOT NULL CHECK (EXPERIENCE_YEARS >= 0)\n",
    ");\n",
    "\n",
    "-- Создание таблицы пациентов\n",
    "CREATE TABLE IF NOT EXISTS PATIENT (\n",
    "    PATIENT_ID SERIAL PRIMARY KEY,\n",
    "    LAST_NAME VARCHAR(50) NOT NULL,\n",
    "    DIAGNOSIS VARCHAR(100),\n",
    "    AGE INTEGER NOT NULL CHECK (AGE > 0 AND AGE < 120)\n",
    ");\n",
    "\n",
    "\n",
    "CREATE TABLE IF NOT EXISTS Doctor_Patient (\n",
    "    DOCTOR_ID INTEGER PRIMARY KEY,\n",
    "    PATIENT_ID INTEGER UNIQUE NOT NULL,\n",
    "    FOREIGN KEY (DOCTOR_ID) REFERENCES DOCTOR(DOCTOR_ID) ON DELETE CASCADE,\n",
    "    FOREIGN KEY (PATIENT_ID) REFERENCES PATIENT(PATIENT_ID) ON DELETE CASCADE\n",
    ");"
   ]
  },
  {
   "cell_type": "code",
   "execution_count": null,
   "id": "4735d97e",
   "metadata": {},
   "outputs": [],
   "source": [
    "%%sql\n",
    "-- Добавление врачей\n",
    "INSERT INTO DOCTOR (LAST_NAME, POSITION, EXPERIENCE_YEARS) VALUES\n",
    "    ('Иванов', 'Хирург', 10),\n",
    "    ('Петрова', 'Терапевт', 5),\n",
    "    ('Сидоров', 'Кардиолог', 15),\n",
    "    ('Кузнецова', 'Невролог', 8);\n",
    "\n",
    "-- Добавление пациентов\n",
    "INSERT INTO PATIENT (LAST_NAME, DIAGNOSIS, AGE) VALUES\n",
    "    ('Смирнов', 'Гастрит', 35),\n",
    "    ('Васильев', 'Гипертония', 42),\n",
    "    ('Николаева', 'Мигрень', 28),\n",
    "    ('Федоров', 'Аппендицит', 19);\n",
    "\n",
    "-- Соединение \n",
    "INSERT INTO Doctor_Patient (DOCTOR_ID, PATIENT_ID) VALUES\n",
    "    (1, 4),  -- Иванов лечит Федорова\n",
    "    (2, 1),  -- Петрова лечит Смирнова\n",
    "    (3, 2),  -- Сидоров лечит Васильева\n",
    "    (4, 3);  -- Кузнецова лечит Николаеву"
   ]
  },
  {
   "cell_type": "code",
   "execution_count": 5,
   "id": "3aae5d47",
   "metadata": {},
   "outputs": [
    {
     "name": "stdout",
     "output_type": "stream",
     "text": [
      "Данные успешно экспортированы в файл: patient10.csv\n"
     ]
    }
   ],
   "source": [
    "import psycopg2\n",
    "import csv\n",
    "\n",
    "conn_params = {\n",
    "    \"host\": \"localhost\",\n",
    "    \"database\": \"medical__db\",\n",
    "    \"user\": \"postgres\",\n",
    "    \"password\": \"1234\",\n",
    "    \"port\": \"5432\"\n",
    "}\n",
    "\n",
    "query = \"\"\"  \n",
    "SELECT * FROM PATIENT WHERE AGE > 10;  \n",
    "\"\"\"  \n",
    "\n",
    "output_file = \"patient10.csv\"  \n",
    "\n",
    "try:\n",
    "\n",
    "    conn = psycopg2.connect(**conn_params)  \n",
    "    cursor = conn.cursor()  \n",
    "\n",
    "\n",
    "    cursor.execute(query)  \n",
    "    result = cursor.fetchall()  \n",
    "\n",
    "  \n",
    "    column_names = [desc[0] for desc in cursor.description]  \n",
    "\n",
    "   \n",
    "    with open(output_file, mode='w', newline='', encoding='utf-8-sig') as file:  \n",
    "        writer = csv.writer(file, delimiter=',', quotechar='\"', quoting=csv.QUOTE_MINIMAL)  \n",
    "        writer.writerow(column_names)  \n",
    "        writer.writerows(result)  \n",
    "\n",
    "    print(f\"Данные успешно экспортированы в файл: {output_file}\")  \n",
    "\n",
    "except psycopg2.Error as e:\n",
    "    print(f\"Ошибка при работе с PostgreSQL: {e}\")\n",
    "except Exception as e:\n",
    "    print(f\"Общая ошибка: {e}\")\n",
    "finally:\n",
    "\n",
    "    if 'cursor' in locals():\n",
    "        cursor.close()\n",
    "    if 'conn' in locals():\n",
    "        conn.close()"
   ]
  },
  {
   "cell_type": "code",
   "execution_count": null,
   "id": "45c9eb4d",
   "metadata": {},
   "outputs": [
    {
     "name": "stdout",
     "output_type": "stream",
     "text": [
      "Collecting seaborn\n",
      "  Obtaining dependency information for seaborn from https://files.pythonhosted.org/packages/83/11/00d3c3dfc25ad54e731d91449895a79e4bf2384dc3ac01809010ba88f6d5/seaborn-0.13.2-py3-none-any.whl.metadata\n",
      "  Downloading seaborn-0.13.2-py3-none-any.whl.metadata (5.4 kB)\n",
      "Requirement already satisfied: psycopg2-binary in c:\\users\\pirol\\appdata\\local\\programs\\python\\python311\\lib\\site-packages (2.9.10)\n",
      "Requirement already satisfied: pandas in c:\\users\\pirol\\appdata\\local\\programs\\python\\python311\\lib\\site-packages (2.2.3)\n",
      "Requirement already satisfied: matplotlib in c:\\users\\pirol\\appdata\\local\\programs\\python\\python311\\lib\\site-packages (3.10.1)\n",
      "Requirement already satisfied: numpy!=1.24.0,>=1.20 in c:\\users\\pirol\\appdata\\local\\programs\\python\\python311\\lib\\site-packages (from seaborn) (2.2.5)\n",
      "Requirement already satisfied: python-dateutil>=2.8.2 in c:\\users\\pirol\\appdata\\roaming\\python\\python311\\site-packages (from pandas) (2.9.0.post0)\n",
      "Requirement already satisfied: pytz>=2020.1 in c:\\users\\pirol\\appdata\\local\\programs\\python\\python311\\lib\\site-packages (from pandas) (2025.2)\n",
      "Requirement already satisfied: tzdata>=2022.7 in c:\\users\\pirol\\appdata\\local\\programs\\python\\python311\\lib\\site-packages (from pandas) (2025.2)\n",
      "Requirement already satisfied: contourpy>=1.0.1 in c:\\users\\pirol\\appdata\\local\\programs\\python\\python311\\lib\\site-packages (from matplotlib) (1.3.2)\n",
      "Requirement already satisfied: cycler>=0.10 in c:\\users\\pirol\\appdata\\local\\programs\\python\\python311\\lib\\site-packages (from matplotlib) (0.12.1)\n",
      "Requirement already satisfied: fonttools>=4.22.0 in c:\\users\\pirol\\appdata\\local\\programs\\python\\python311\\lib\\site-packages (from matplotlib) (4.57.0)\n",
      "Requirement already satisfied: kiwisolver>=1.3.1 in c:\\users\\pirol\\appdata\\local\\programs\\python\\python311\\lib\\site-packages (from matplotlib) (1.4.8)\n",
      "Requirement already satisfied: packaging>=20.0 in c:\\users\\pirol\\appdata\\roaming\\python\\python311\\site-packages (from matplotlib) (25.0)\n",
      "Requirement already satisfied: pillow>=8 in c:\\users\\pirol\\appdata\\local\\programs\\python\\python311\\lib\\site-packages (from matplotlib) (11.2.1)\n",
      "Requirement already satisfied: pyparsing>=2.3.1 in c:\\users\\pirol\\appdata\\local\\programs\\python\\python311\\lib\\site-packages (from matplotlib) (3.2.3)\n",
      "Requirement already satisfied: six>=1.5 in c:\\users\\pirol\\appdata\\roaming\\python\\python311\\site-packages (from python-dateutil>=2.8.2->pandas) (1.17.0)\n",
      "Downloading seaborn-0.13.2-py3-none-any.whl (294 kB)\n",
      "   ---------------------------------------- 0.0/294.9 kB ? eta -:--:--\n",
      "   ------------ --------------------------- 92.2/294.9 kB 2.6 MB/s eta 0:00:01\n",
      "   ------------------------------ --------- 225.3/294.9 kB 2.3 MB/s eta 0:00:01\n",
      "   ---------------------------------------- 294.9/294.9 kB 2.6 MB/s eta 0:00:00\n",
      "Installing collected packages: seaborn\n",
      "Successfully installed seaborn-0.13.2\n"
     ]
    },
    {
     "name": "stderr",
     "output_type": "stream",
     "text": [
      "\n",
      "[notice] A new release of pip is available: 23.2.1 -> 25.1.1\n",
      "[notice] To update, run: python.exe -m pip install --upgrade pip\n",
      "C:\\Users\\pirol\\AppData\\Local\\Temp\\ipykernel_7060\\2227857512.py:33: UserWarning: pandas only supports SQLAlchemy connectable (engine/connection) or database string URI or sqlite3 DBAPI2 connection. Other DBAPI2 objects are not tested. Please consider using SQLAlchemy.\n",
      "  df = pd.read_sql(query, conn)\n"
     ]
    },
    {
     "data": {
      "image/png": "[encoded data removed]",
      "text/plain": [
       "<Figure size 1200x600 with 1 Axes>"
      ]
     },
     "metadata": {},
     "output_type": "display_data"
    },
    {
     "name": "stdout",
     "output_type": "stream",
     "text": [
      "\n",
      "Детальные данные:\n",
      "  specialization  avg_salary  doctors_count\n",
      "0      Кардиолог    150000.0              1\n",
      "1         Хирург    120000.0              2\n",
      "2       Терапевт     90000.0              2\n"
     ]
    }
   ],
   "source": [
    "\n",
    "!pip install seaborn psycopg2-binary pandas matplotlib\n",
    "\n",
    "import pandas as pd\n",
    "import matplotlib.pyplot as plt\n",
    "import seaborn as sns\n",
    "\n",
    "\n",
    "conn_params = {\n",
    "    \"host\": \"localhost\",\n",
    "    \"database\": \"medical__db\", \n",
    "    \"user\": \"postgres\",\n",
    "    \"password\": \"1234\", \n",
    "    \"port\": \"5432\"\n",
    "}\n",
    "\n",
    "try:\n",
    "\n",
    "    conn = psycopg2.connect(**conn_params)\n",
    "    \n",
    "  \n",
    "    query = \"\"\"\n",
    "    SELECT \n",
    "        specialization,\n",
    "        AVG(salary) as avg_salary,\n",
    "        COUNT(*) as doctors_count\n",
    "    FROM Doctors\n",
    "    GROUP BY specialization\n",
    "    ORDER BY avg_salary DESC\n",
    "    \"\"\"\n",
    "    \n",
    "    df = pd.read_sql(query, conn)\n",
    "    \n",
    "\n",
    "    plt.figure(figsize=(12, 6))\n",
    "    plt.bar(df['specialization'], df['avg_salary'], color='skyblue')\n",
    "\n",
    "    plt.title('Средняя зарплата врачей по специализациям', fontsize=16)\n",
    "    plt.xlabel('Специализация', fontsize=12)\n",
    "    plt.ylabel('Средняя зарплата', fontsize=12)\n",
    "    plt.xticks(rotation=45)\n",
    "    plt.grid(axis='y', linestyle='--', alpha=0.7)\n",
    "    \n",
    "    for i, val in enumerate(df['avg_salary']):\n",
    "        plt.text(i, val, f'{val:.0f}', ha='center', va='bottom')\n",
    "    \n",
    "    plt.tight_layout()\n",
    "    plt.show()\n",
    "\n",
    "    print(\"\\nДетальные данные:\")\n",
    "    print(df)\n",
    "    \n",
    "except psycopg2.Error as e:\n",
    "    print(f\"Ошибка подключения к базе: {e}\")\n",
    "    print(\"Проверьте:\")\n",
    "    print(\"1. Запущен ли сервер PostgreSQL\")\n",
    "    print(\"2. Правильность параметров подключения\")\n",
    "    print(f\"3. Существует ли база {conn_params['database']}\")\n",
    "except Exception as e:\n",
    "    print(f\"Ошибка: {e}\")\n",
    "finally:\n",
    "    if 'conn' in locals():\n",
    "        conn.close()"
   ]
  }
 ],
 "metadata": {
  "kernelspec": {
   "display_name": "Python 3",
   "language": "python",
   "name": "python3"
  },
  "language_info": {
   "codemirror_mode": {
    "name": "ipython",
    "version": 3
   },
   "file_extension": ".py",
   "mimetype": "text/x-python",
   "name": "python",
   "nbconvert_exporter": "python",
   "pygments_lexer": "ipython3",
   "version": "3.11.5"
  }
 },
 "nbformat": 4,
 "nbformat_minor": 5
}
